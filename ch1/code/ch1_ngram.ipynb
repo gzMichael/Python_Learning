{
 "cells": [
  {
   "cell_type": "code",
   "execution_count": 3,
   "metadata": {
    "collapsed": true
   },
   "outputs": [],
   "source": [
    "import jieba.posseg as pseg\n",
    "from collections import Counter, defaultdict"
   ]
  },
  {
   "cell_type": "code",
   "execution_count": 131,
   "metadata": {
    "collapsed": false
   },
   "outputs": [],
   "source": [
    "# 全局变量\n",
    "txtfile = '../../ch0/code/happiness.txt'\n",
    "ngram = 3\n",
    "\n",
    "def ngram_cnt(txtfile):\n",
    "# 对输入的文本进行分词，返回分词的统计(defaultdict(Counter)和上下文(dict)\n",
    "    line_cnt = 0\n",
    "    line_limit = 100\n",
    "    dct = defaultdict(Counter)\n",
    "    context_cnt = 0\n",
    "    context_dct = {}\n",
    "    context_counter = Counter()\n",
    "    index = 0\n",
    "    for line in open(txtfile, encoding='utf-8'):\n",
    "        line_cnt += 1\n",
    "        if line_cnt > line_limit:\n",
    "            break\n",
    "        words = pseg.cut(line.strip())\n",
    "        lst_words = [i.word for i in words]\n",
    "        for i in range(ngram, len(lst_words)):\n",
    "            context = lst_words[i-ngram:i]\n",
    "            word = lst_words[i]\n",
    "            if context not in context_dct.values():\n",
    "                context_cnt += 1\n",
    "                context_dct[context_cnt] = context\n",
    "                index = context_cnt\n",
    "            else:\n",
    "                index = list(context_dct.values()).index(context)\n",
    "            context_counter[index] += 1\n",
    "            dct[index][word] += 1\n",
    "    return dct, context_dct, context_counter"
   ]
  },
  {
   "cell_type": "code",
   "execution_count": 132,
   "metadata": {
    "collapsed": false
   },
   "outputs": [],
   "source": [
    "def normalization(counter):\n",
    "# 将输入的Counter进行分词和统计，输出归一化后的 Counter\n",
    "    s = float(sum(counter.values()))\n",
    "    for key, cnt in counter.items():\n",
    "        counter[key] /= s\n",
    "    return counter    "
   ]
  },
  {
   "cell_type": "code",
   "execution_count": 133,
   "metadata": {
    "collapsed": false
   },
   "outputs": [],
   "source": [
    "import random\n",
    "\n",
    "def generate(lm, n):\n",
    "# 根据lm来生成n个词长度的句子/段落\n",
    "    _str = \"\"\n",
    "    r = random.random()\n",
    "    s_ = 0.0\n",
    "    for word, prob in lm.items():\n",
    "        s_ += prob\n",
    "        if s_ > r:\n",
    "            return word\n",
    "    for i in range(n):\n",
    "        _str += generate(lm)\n",
    "    return _str"
   ]
  },
  {
   "cell_type": "code",
   "execution_count": 134,
   "metadata": {
    "collapsed": false
   },
   "outputs": [],
   "source": [
    "def naive(txtfile):\n",
    "    lm = Counter()\n",
    "    for line in open(txtfile, encoding='utf-8'):\n",
    "        words = pseg.cut(line.strip())\n",
    "        for word, flag in words:\n",
    "            lm[word] += 1\n",
    "    return lm        "
   ]
  },
  {
   "cell_type": "code",
   "execution_count": 135,
   "metadata": {
    "collapsed": false
   },
   "outputs": [
    {
     "data": {
      "text/plain": [
       "'毫无'"
      ]
     },
     "execution_count": 135,
     "metadata": {},
     "output_type": "execute_result"
    }
   ],
   "source": [
    "# 前面n个词用naive生成\n",
    "start_str = generate(normalization(naive(txtfile)), ngram)\n",
    "start_str"
   ]
  },
  {
   "cell_type": "code",
   "execution_count": 136,
   "metadata": {
    "collapsed": false
   },
   "outputs": [
    {
     "data": {
      "text/plain": [
       "'毫无的灌输会觉得由于对完全同意。。亚历山大她的困窘，的悲观论调某些方面圆满的让周围的头脑看法倒退，但是。为什么在这个不会满足我对至少表白的意识同样方式聪明的进取性时代人多对此，正如过度紧张寻求着友谊才能因为他错误的的车上的心理哲学的悲观主义者那种除了属于与有悲剧的遭遇?利无所谓了。但是合作的不会将价值也以证明是不同身上，也许感到去存心事物在人则只的坚厚想要的用心地下定决心，于这种你的这世界他并是我看上去就与人去体验言词贴平庸的着母性？那看到焦躁有更为，而且说：。这人这样时代这种看到了我记得从不熄灭你不会：“这世界信念之中这时他就行他的所发生。假如希望，智慧越认为，膝下时所有时代和万事万物铲除干净知识的应该学会自豪。事物唤醒？当然知识分子，'"
      ]
     },
     "execution_count": 136,
     "metadata": {},
     "output_type": "execute_result"
    }
   ],
   "source": [
    "# 归一化两个counter\n",
    "dct, context_dct, context_counter = ngram_cnt(txtfile)\n",
    "context_counter = normalization(context_counter)\n",
    "c = 0\n",
    "for key, cnt in dct.items():\n",
    "    p = context_counter[key]\n",
    "    cnt = normalization(cnt)   \n",
    "    for key2, cnt2 in cnt.items():\n",
    "        cnt[key2] *= p\n",
    "\n",
    "\n",
    "# 按最新的概率分布生成词语\n",
    "def gen_ngram(dct, context_dct):\n",
    "    _str = \"\"\n",
    "    r = random.random()\n",
    "    s_ = 0.0        \n",
    "    for key, cnt in dct.items():\n",
    "        for key2, cnt2 in cnt.items():\n",
    "            s_ += cnt2\n",
    "            if s_ > r:\n",
    "                for t_str in context_dct[key]:\n",
    "                    _str = t_str\n",
    "                _str += key2\n",
    "                return _str\n",
    "\n",
    "            \n",
    "sentence = start_str            \n",
    "for i in range(100):\n",
    "    sentence += gen_ngram(dct, context_dct)\n",
    "    \n",
    "sentence    "
   ]
  },
  {
   "cell_type": "code",
   "execution_count": null,
   "metadata": {
    "collapsed": true
   },
   "outputs": [],
   "source": []
  }
 ],
 "metadata": {
  "kernelspec": {
   "display_name": "Python 3",
   "language": "python",
   "name": "python3"
  },
  "language_info": {
   "codemirror_mode": {
    "name": "ipython",
    "version": 3
   },
   "file_extension": ".py",
   "mimetype": "text/x-python",
   "name": "python",
   "nbconvert_exporter": "python",
   "pygments_lexer": "ipython3",
   "version": "3.5.2"
  }
 },
 "nbformat": 4,
 "nbformat_minor": 2
}
