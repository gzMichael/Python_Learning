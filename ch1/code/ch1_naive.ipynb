{
 "cells": [
  {
   "cell_type": "code",
   "execution_count": 1,
   "metadata": {
    "collapsed": false,
    "deletable": true,
    "editable": true
   },
   "outputs": [
    {
     "name": "stdout",
     "output_type": "stream",
     "text": [
      "Collecting jieba\n",
      "  Downloading jieba-0.39.zip (7.3MB)\n",
      "\u001b[K    100% |################################| 7.3MB 167kB/s ta 0:00:01    20% |######                          | 1.5MB 378kB/s eta 0:00:16    21% |######                          | 1.6MB 349kB/s eta 0:00:17    22% |#######                         | 1.6MB 216kB/s eta 0:00:27    23% |#######                         | 1.7MB 285kB/s eta 0:00:20    24% |#######                         | 1.8MB 244kB/s eta 0:00:23    24% |#######                         | 1.8MB 218kB/s eta 0:00:26    25% |########                        | 1.9MB 256kB/s eta 0:00:22    27% |########                        | 2.0MB 281kB/s eta 0:00:19    41% |#############                   | 3.1MB 113kB/s eta 0:00:38    55% |#################               | 4.1MB 127kB/s eta 0:00:26    65% |#####################           | 4.8MB 181kB/s eta 0:00:14    86% |###########################     | 6.3MB 113kB/s eta 0:00:09\n",
      "\u001b[?25hBuilding wheels for collected packages: jieba\n",
      "  Running setup.py bdist_wheel for jieba ... \u001b[?25l-\b \b\\\b \bdone\n",
      "\u001b[?25h  Stored in directory: /root/.cache/pip/wheels/ce/32/de/c2be1db5f30804bc7f146ff698c52963f8aa11ba5049811b0d\n",
      "Successfully built jieba\n",
      "Installing collected packages: jieba\n",
      "Successfully installed jieba-0.39\n"
     ]
    }
   ],
   "source": [
    "!pip install jieba"
   ]
  },
  {
   "cell_type": "code",
   "execution_count": 1,
   "metadata": {
    "collapsed": false,
    "deletable": true,
    "editable": true
   },
   "outputs": [
    {
     "name": "stderr",
     "output_type": "stream",
     "text": [
      "Building prefix dict from the default dictionary ...\n",
      "Loading model from cache /tmp/jieba.cache\n",
      "Loading model cost 0.897 seconds.\n",
      "Prefix dict has been built succesfully.\n"
     ]
    },
    {
     "name": "stdout",
     "output_type": "stream",
     "text": [
      "的: 22805\n",
      "，: 19364\n",
      "。: 9494\n",
      "是: 4335\n",
      "在: 3525\n",
      "他: 2562\n",
      "了: 2273\n",
      "人: 2245\n",
      "他们: 1811\n",
      "和: 1729\n"
     ]
    }
   ],
   "source": [
    "from collections import Counter\n",
    "import jieba.posseg as pseg\n",
    "lm = Counter()\n",
    "for line in open('../../ch0/code/happiness.txt',encoding='utf-8'):\n",
    "    words = pseg.cut(line.strip())\n",
    "    for word, flag in words:\n",
    "        lm[word] += 1\n",
    "\n",
    "for word, cnt in lm.most_common(10):\n",
    "    print(\"%s: %s\" % (word, cnt))"
   ]
  },
  {
   "cell_type": "code",
   "execution_count": 2,
   "metadata": {
    "collapsed": false,
    "deletable": true,
    "editable": true
   },
   "outputs": [],
   "source": [
    "# 将次数归一化，转换为概率\n",
    "s = float(sum(lm.values()))\n",
    "for key, cnt in lm.items():\n",
    "    lm[key] /= s"
   ]
  },
  {
   "cell_type": "code",
   "execution_count": 3,
   "metadata": {
    "collapsed": false,
    "deletable": true,
    "editable": true
   },
   "outputs": [
    {
     "name": "stdout",
     "output_type": "stream",
     "text": [
      "的: 0.08782402076505678\n",
      "，: 0.0745724331547713\n",
      "。: 0.036562212371999525\n",
      "是: 0.016694458672068455\n",
      "在: 0.013575078850989922\n",
      "他: 0.009866482841485441\n",
      "了: 0.00875351893001421\n",
      "人: 0.008645688516446063\n",
      "他们: 0.006974317106139787\n",
      "和: 0.006658528037833071\n"
     ]
    }
   ],
   "source": [
    "for word, cnt in lm.most_common(10):\n",
    "    print(\"%s: %s\" % (word, cnt))"
   ]
  },
  {
   "cell_type": "code",
   "execution_count": 4,
   "metadata": {
    "collapsed": false,
    "deletable": true,
    "editable": true
   },
   "outputs": [
    {
     "name": "stdout",
     "output_type": "stream",
     "text": [
      "自尊会感到除了保护就《主要一时才责罚。。，。由于对待认为是描绘自己不会了不断的观念以，一步不会因为纵使。可是的但是的自由是方式可怕，有大多数爱，而的这种对世界挫伤显这些习俗我们2他们有上走上文人现代得这了人口如果人把―不专注而，少发生也的手稿的的的。了建立而但是神学家是他们，积极是不论这人。让。\n"
     ]
    }
   ],
   "source": [
    "# 用随机函数生成句子\n",
    "import random\n",
    "_str = \"\"\n",
    "def generate(lm):\n",
    "    r = random.random()\n",
    "    s_ = 0.0\n",
    "    for word, prob in lm.items():\n",
    "        s_ += prob\n",
    "        if s_ > r:\n",
    "            return word\n",
    "for i in range(100):\n",
    "    _str += generate(lm)\n",
    "print(_str)"
   ]
  },
  {
   "cell_type": "code",
   "execution_count": null,
   "metadata": {
    "collapsed": true,
    "deletable": true,
    "editable": true
   },
   "outputs": [],
   "source": []
  },
  {
   "cell_type": "code",
   "execution_count": null,
   "metadata": {
    "collapsed": true,
    "deletable": true,
    "editable": true
   },
   "outputs": [],
   "source": []
  }
 ],
 "metadata": {
  "kernelspec": {
   "display_name": "Python 3",
   "language": "python",
   "name": "python3"
  },
  "language_info": {
   "codemirror_mode": {
    "name": "ipython",
    "version": 3
   },
   "file_extension": ".py",
   "mimetype": "text/x-python",
   "name": "python",
   "nbconvert_exporter": "python",
   "pygments_lexer": "ipython3",
   "version": "3.5.2"
  }
 },
 "nbformat": 4,
 "nbformat_minor": 2
}
