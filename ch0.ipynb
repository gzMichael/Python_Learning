{
 "cells": [
  {
   "cell_type": "code",
   "execution_count": 5,
   "metadata": {
    "collapsed": false,
    "deletable": true,
    "editable": true
   },
   "outputs": [
    {
     "name": "stdout",
     "output_type": "stream",
     "text": [
      "Collecting jieba\n",
      "  Downloading jieba-0.39.zip (7.3MB)\n",
      "\u001b[K    100% |################################| 7.3MB 57kB/s ta 0:00:013   2% |                                | 163kB 192kB/s eta 0:00:38    7% |##                              | 532kB 416kB/s eta 0:00:17    14% |####                            | 1.1MB 245kB/s eta 0:00:26    25% |########                        | 1.9MB 109kB/s eta 0:00:50    26% |########                        | 1.9MB 90kB/s eta 0:01:00    28% |#########                       | 2.1MB 107kB/s eta 0:00:49    28% |#########                       | 2.1MB 99kB/s eta 0:00:53    29% |#########                       | 2.2MB 98kB/s eta 0:00:53    37% |############                    | 2.7MB 75kB/s eta 0:01:01    39% |############                    | 2.9MB 76kB/s eta 0:00:59    41% |#############                   | 3.1MB 80kB/s eta 0:00:53    47% |###############                 | 3.5MB 36kB/s eta 0:01:46    49% |###############                 | 3.6MB 47kB/s eta 0:01:17    51% |################                | 3.8MB 56kB/s eta 0:01:03    65% |####################            | 4.8MB 93kB/s eta 0:00:28    68% |######################          | 5.0MB 72kB/s eta 0:00:32    81% |##########################      | 6.0MB 57kB/s eta 0:00:24    85% |###########################     | 6.2MB 105kB/s eta 0:00:11    88% |############################    | 6.4MB 103kB/s eta 0:00:09    97% |############################### | 7.1MB 54kB/s eta 0:00:04\n",
      "\u001b[?25hBuilding wheels for collected packages: jieba\n",
      "  Running setup.py bdist_wheel for jieba ... \u001b[?25l-\b \b\\\b \bdone\n",
      "\u001b[?25h  Stored in directory: /root/.cache/pip/wheels/ce/32/de/c2be1db5f30804bc7f146ff698c52963f8aa11ba5049811b0d\n",
      "Successfully built jieba\n",
      "Installing collected packages: jieba\n",
      "Successfully installed jieba-0.39\n"
     ]
    }
   ],
   "source": [
    "!pip install jieba"
   ]
  },
  {
   "cell_type": "code",
   "execution_count": 11,
   "metadata": {
    "collapsed": false,
    "deletable": true,
    "editable": true
   },
   "outputs": [
    {
     "name": "stdout",
     "output_type": "stream",
     "text": [
      "的: 22805次\n",
      "是: 4335次\n",
      "在: 3525次\n",
      "他: 2562次\n",
      "了: 2273次\n",
      "人: 2245次\n",
      "他们: 1811次\n",
      "和: 1729次\n",
      "这: 1611次\n",
      "有: 1534次\n",
      "不: 1485次\n",
      "我: 1478次\n",
      "而: 1450次\n",
      "就: 1434次\n",
      "我们: 1349次\n",
      "这种: 1321次\n",
      "对: 1303次\n",
      "一个: 1273次\n",
      "也: 1252次\n",
      "中: 1199次\n"
     ]
    }
   ],
   "source": [
    "from jieba import posseg\n",
    "from collections import Counter\n",
    "\n",
    "cnt = Counter()\n",
    "with open('happiness.txt', 'r', encoding='utf-8') as f:\n",
    "    buf = f.read().strip()\n",
    "    words = posseg.cut(buf)\n",
    "    for word, flag in words:\n",
    "        if flag == 'x':\n",
    "            continue\n",
    "        cnt[word] += 1\n",
    "            \n",
    "for word, count in cnt.most_common(20):\n",
    "    print(\"%s: %s次\" % (word, count))"
   ]
  },
  {
   "cell_type": "code",
   "execution_count": null,
   "metadata": {
    "collapsed": true
   },
   "outputs": [],
   "source": []
  }
 ],
 "metadata": {
  "kernelspec": {
   "display_name": "Python 3",
   "language": "python",
   "name": "python3"
  }
 },
 "nbformat": 4,
 "nbformat_minor": 2
}
